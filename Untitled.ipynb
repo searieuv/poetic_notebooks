{
 "cells": [
  {
   "cell_type": "code",
   "execution_count": 9,
   "id": "ba255eda",
   "metadata": {},
   "outputs": [],
   "source": [
    "#Source: https://gutenberg.org/cache/epub/71923/pg71923-images.html\n",
    "\n",
    "original_text = '''\n",
    "Out of breath and with weary limbs, he searched the horizon for some sign of the \n",
    "hospice. Could he have passed it farther back without noticing it? He was so tired \n",
    "he could not judge of distances any more. And, after all, what was the use of so \n",
    "much effort? He had only to let himself sink down by the roadside. In the snow he \n",
    "could sleep or die with equal ease. It would be the end of thinking, of tramping.\n",
    "\n",
    "'''"
   ]
  },
  {
   "cell_type": "code",
   "execution_count": 10,
   "id": "8e841c68",
   "metadata": {
    "scrolled": true
   },
   "outputs": [
    {
     "name": "stdout",
     "output_type": "stream",
     "text": [
      "out of breath and with weary limbs, he searched the horizon for some sign of the hospice could he have passed it farther back without noticing it he was so tired he could not judge of distances any more and, after all, what was the use of so much effort he had only to let himself sink down by the roadside in the snow he could sleep or die with equal ease it would be the end of thinking, of tramping\n"
     ]
    }
   ],
   "source": [
    "modified_text = original_text.lower()\n",
    "modified_text = modified_text.replace('.', '')\n",
    "modified_text = modified_text.replace('?', '')\n",
    "modified_text = modified_text.replace('!', '')\n",
    "modified_text = modified_text.replace('\\n', '')\n",
    "modified_text = modified_text.replace('\"', '')\n",
    "\n",
    "print(modified_text)"
   ]
  },
  {
   "cell_type": "code",
   "execution_count": 11,
   "id": "cd0ffb26",
   "metadata": {},
   "outputs": [],
   "source": [
    "text_as_list = modified_text.split(' ')\n",
    "\n",
    "poem_lines = []\n",
    "\n",
    "while len(text_as_list) > 0:\n",
    "    temp_line = []\n",
    "    if len(text_as_list) >= 5:\n",
    "        for i in range(5):\n",
    "            temp_line.append(text_as_list.pop(0))\n",
    "        poem_lines.append(temp_line)\n",
    "    else:\n",
    "        break\n",
    "        "
   ]
  },
  {
   "cell_type": "code",
   "execution_count": 15,
   "id": "a5ac1d9e",
   "metadata": {
    "scrolled": true
   },
   "outputs": [
    {
     "name": "stdout",
     "output_type": "stream",
     "text": [
      "[['out', 'of', 'breath', 'and', 'with'], ['weary', 'limbs,', 'he', 'searched', 'the'], ['horizon', 'for', 'some', 'sign', 'of'], ['the', 'hospice', 'could', 'he', 'have'], ['passed', 'it', 'farther', 'back', 'without'], ['noticing', 'it', 'he', 'was', 'so'], ['tired', 'he', 'could', 'not', 'judge'], ['of', 'distances', 'any', 'more', 'and,'], ['after', 'all,', 'what', 'was', 'the'], ['use', 'of', 'so', 'much', 'effort'], ['he', 'had', 'only', 'to', 'let'], ['himself', 'sink', 'down', 'by', 'the'], ['roadside', 'in', 'the', 'snow', 'he'], ['could', 'sleep', 'or', 'die', 'with'], ['equal', 'ease', 'it', 'would', 'be'], ['the', 'end', 'of', 'thinking,', 'of']]\n"
     ]
    }
   ],
   "source": [
    "print(poem_lines)"
   ]
  },
  {
   "cell_type": "code",
   "execution_count": 16,
   "id": "540dae52",
   "metadata": {},
   "outputs": [],
   "source": [
    "poem_generator_list = []\n",
    "\n",
    "for line in reversed(poem_lines):\n",
    "    poem_generator_list.append(\" \".join(line))"
   ]
  },
  {
   "cell_type": "code",
   "execution_count": 17,
   "id": "9d96e4f0",
   "metadata": {},
   "outputs": [
    {
     "name": "stdout",
     "output_type": "stream",
     "text": [
      "tired he could not judge\n",
      "passed it farther back without\n",
      "of distances any more and,\n",
      "weary limbs, he searched the\n",
      "the end of thinking, of\n",
      "after all, what was the\n",
      "equal ease it would be\n",
      "himself sink down by the\n",
      "roadside in the snow he\n",
      "horizon for some sign of\n",
      "out of breath and with\n",
      "he had only to let\n",
      "use of so much effort\n",
      "the hospice could he have\n",
      "noticing it he was so\n",
      "could sleep or die with\n"
     ]
    }
   ],
   "source": [
    "import random\n",
    "\n",
    "shuffled_poem_lines = poem_generator_list[:]\n",
    "random.shuffle(shuffled_poem_lines)\n",
    "\n",
    "for line in shuffled_poem_lines:\n",
    "    print(line)"
   ]
  },
  {
   "cell_type": "code",
   "execution_count": 19,
   "id": "d460a384",
   "metadata": {},
   "outputs": [
    {
     "name": "stdout",
     "output_type": "stream",
     "text": [
      "passed it farther back without\n"
     ]
    }
   ],
   "source": [
    "print(max(shuffled_poem_lines, key=len))"
   ]
  }
 ],
 "metadata": {
  "kernelspec": {
   "display_name": "Python 3 (ipykernel)",
   "language": "python",
   "name": "python3"
  },
  "language_info": {
   "codemirror_mode": {
    "name": "ipython",
    "version": 3
   },
   "file_extension": ".py",
   "mimetype": "text/x-python",
   "name": "python",
   "nbconvert_exporter": "python",
   "pygments_lexer": "ipython3",
   "version": "3.9.13"
  }
 },
 "nbformat": 4,
 "nbformat_minor": 5
}
