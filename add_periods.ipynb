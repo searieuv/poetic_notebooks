{
 "cells": [
  {
   "cell_type": "code",
   "execution_count": 5,
   "id": "1f944664",
   "metadata": {},
   "outputs": [],
   "source": [
    "original_poem = '''\n",
    "Yes, let them walk away, \n",
    "many people in the world already \n",
    "hardened to \n",
    "too many people\n",
    "as they wear smiles \n",
    "too much difference, too much \n",
    "a little to the West, \n",
    "of my free will \n",
    "dropping out. \n",
    "my life may be nonsense \n",
    "then to the East \n",
    "a naive test of \n",
    "a man who had dissected \n",
    "the soul \n",
    "a ruse, a trick, a leprechaun held in the shadows of the hand. \n",
    "'''"
   ]
  },
  {
   "cell_type": "code",
   "execution_count": 6,
   "id": "493f517f",
   "metadata": {},
   "outputs": [
    {
     "name": "stdout",
     "output_type": "stream",
     "text": [
      "\n",
      "Yes,.let.them.walk.away,.\n",
      "many.people.in.the.world.already.\n",
      "hardened.to.\n",
      "too.many.people\n",
      "as.they.wear.smiles.\n",
      "too.much.difference,.too.much.\n",
      "a.little.to.the.West,.\n",
      "of.my.free.will.\n",
      "dropping.out..\n",
      "my.life.may.be.nonsense.\n",
      "then.to.the.East.\n",
      "a.naive.test.of.\n",
      "a.man.who.had.dissected.\n",
      "the.soul.\n",
      "a.ruse,.a.trick,.a.leprechaun.held.in.the.shadows.of.the.hand..\n",
      "\n"
     ]
    }
   ],
   "source": [
    "poem_as_list = list(original_poem)\n",
    "\n",
    "for i, character in enumerate(poem_as_list):\n",
    "    if character == ' ':\n",
    "        poem_as_list[i] = '.'\n",
    "        \n",
    "print(\"\".join(poem_as_list))"
   ]
  }
 ],
 "metadata": {
  "kernelspec": {
   "display_name": "Python 3 (ipykernel)",
   "language": "python",
   "name": "python3"
  },
  "language_info": {
   "codemirror_mode": {
    "name": "ipython",
    "version": 3
   },
   "file_extension": ".py",
   "mimetype": "text/x-python",
   "name": "python",
   "nbconvert_exporter": "python",
   "pygments_lexer": "ipython3",
   "version": "3.9.13"
  }
 },
 "nbformat": 4,
 "nbformat_minor": 5
}
