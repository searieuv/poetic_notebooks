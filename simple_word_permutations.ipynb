{
 "cells": [
  {
   "cell_type": "code",
   "execution_count": 45,
   "id": "b8d691c1",
   "metadata": {},
   "outputs": [],
   "source": [
    "import random"
   ]
  },
  {
   "cell_type": "code",
   "execution_count": 46,
   "id": "c0ee3580",
   "metadata": {},
   "outputs": [],
   "source": [
    "#Source: https://gutenberg.org/cache/epub/71873/pg71873-images.html\n",
    "\n",
    "original_excerpt = '''\n",
    "There was a *monotonous yet *well-controlled precision in this *weaver’s work that was most *soothing , \n",
    "and that seems to be a *characteristic influence of the *homespun industries. It was felt by Wordsworth \n",
    "and voiced in his sonnet:\n",
    "\n",
    "“ Grief, thou hast lost an *ever-ready friend\n",
    "Now that the *cottage spinning-wheel is *mute . ”\n",
    "'''"
   ]
  },
  {
   "cell_type": "code",
   "execution_count": 47,
   "id": "95785f04",
   "metadata": {},
   "outputs": [],
   "source": [
    "excerpt_as_list = original_excerpt.split()"
   ]
  },
  {
   "cell_type": "code",
   "execution_count": 48,
   "id": "d34e337a",
   "metadata": {},
   "outputs": [
    {
     "name": "stdout",
     "output_type": "stream",
     "text": [
      "['There', 'was', 'a', '*monotonous', 'yet', '*well-controlled', 'precision', 'in', 'this', '*weaver’s', 'work', 'that', 'was', 'most', '*soothing', ',', 'and', 'that', 'seems', 'to', 'be', 'a', '*characteristic', 'influence', 'of', 'the', '*homespun', 'industries.', 'It', 'was', 'felt', 'by', 'Wordsworth', 'and', 'voiced', 'in', 'his', 'sonnet:', '“', 'Grief,', 'thou', 'hast', 'lost', 'an', '*ever-ready', 'friend', 'Now', 'that', 'the', '*cottage', 'spinning-wheel', 'is', '*mute', '.', '”']\n"
     ]
    }
   ],
   "source": [
    "print(excerpt_as_list)"
   ]
  },
  {
   "cell_type": "code",
   "execution_count": 49,
   "id": "f13dadef",
   "metadata": {},
   "outputs": [],
   "source": [
    "words_to_permute = []"
   ]
  },
  {
   "cell_type": "code",
   "execution_count": 50,
   "id": "178809c4",
   "metadata": {},
   "outputs": [],
   "source": [
    "for i, word in enumerate(excerpt_as_list):\n",
    "    if word[0] == '*':\n",
    "        words_to_permute.append(word[1:])\n",
    "        excerpt_as_list[i] = '*'"
   ]
  },
  {
   "cell_type": "code",
   "execution_count": 51,
   "id": "9025ec0a",
   "metadata": {
    "scrolled": true
   },
   "outputs": [
    {
     "name": "stdout",
     "output_type": "stream",
     "text": [
      "['monotonous', 'well-controlled', 'weaver’s', 'soothing', 'characteristic', 'homespun', 'ever-ready', 'cottage', 'mute']\n",
      "['There', 'was', 'a', '*', 'yet', '*', 'precision', 'in', 'this', '*', 'work', 'that', 'was', 'most', '*', ',', 'and', 'that', 'seems', 'to', 'be', 'a', '*', 'influence', 'of', 'the', '*', 'industries.', 'It', 'was', 'felt', 'by', 'Wordsworth', 'and', 'voiced', 'in', 'his', 'sonnet:', '“', 'Grief,', 'thou', 'hast', 'lost', 'an', '*', 'friend', 'Now', 'that', 'the', '*', 'spinning-wheel', 'is', '*', '.', '”']\n"
     ]
    }
   ],
   "source": [
    "print(words_to_permute)\n",
    "print(excerpt_as_list)"
   ]
  },
  {
   "cell_type": "code",
   "execution_count": 52,
   "id": "08d0123b",
   "metadata": {},
   "outputs": [
    {
     "name": "stdout",
     "output_type": "stream",
     "text": [
      "There was a ever-ready yet cottage precision in this homespun work that was most characteristic , and that seems to be a well-controlled influence of the mute industries. It was felt by Wordsworth and voiced in his sonnet: “ Grief, thou hast lost an soothing friend Now that the weaver’s spinning-wheel is monotonous . ”\n"
     ]
    }
   ],
   "source": [
    "random.shuffle(words_to_permute)\n",
    "\n",
    "words_to_permute_copy = words_to_permute[:]\n",
    "excerpt_as_list_altered = excerpt_as_list[:]\n",
    "\n",
    "for i, word in enumerate(excerpt_as_list_altered):\n",
    "    if word == '*':\n",
    "        excerpt_as_list_altered[i] = words_to_permute_copy.pop()\n",
    "\n",
    "print(\" \".join(excerpt_as_list_altered))"
   ]
  }
 ],
 "metadata": {
  "kernelspec": {
   "display_name": "Python 3 (ipykernel)",
   "language": "python",
   "name": "python3"
  },
  "language_info": {
   "codemirror_mode": {
    "name": "ipython",
    "version": 3
   },
   "file_extension": ".py",
   "mimetype": "text/x-python",
   "name": "python",
   "nbconvert_exporter": "python",
   "pygments_lexer": "ipython3",
   "version": "3.9.13"
  }
 },
 "nbformat": 4,
 "nbformat_minor": 5
}
